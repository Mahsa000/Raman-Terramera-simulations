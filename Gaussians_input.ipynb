{
 "cells": [
  {
   "cell_type": "code",
   "execution_count": 2,
   "id": "0bd1acb9",
   "metadata": {},
   "outputs": [],
   "source": [
    "import numpy as np\n",
    "import matplotlib.pyplot as plt"
   ]
  },
  {
   "cell_type": "code",
   "execution_count": 3,
   "id": "50ef62f1",
   "metadata": {},
   "outputs": [],
   "source": [
    "def CCD_position(pos):\n",
    "    \n",
    "    new_pos1 = 10**7/(10**7/633 - pos)\n",
    "    new_pos2 = 10**7/(10**7/634 - pos)\n",
    "    \n",
    "    return new_pos1, new_pos2\n",
    "    "
   ]
  },
  {
   "cell_type": "code",
   "execution_count": 4,
   "id": "8357f992",
   "metadata": {},
   "outputs": [],
   "source": [
    "def generate_data(data):\n",
    "    y = np.exp(-1*(data - pick_1)**2/variance) + np.exp(-1*(data - pick_2)**2/variance) \\\n",
    "+ np.exp(-1*(data - pick_3)**2/variance) + np.exp(-1*(data - pick_4)**2/variance)\\\n",
    "+ np.exp(-1*(data - pick_5)**2/variance)\n",
    "    return y"
   ]
  },
  {
   "cell_type": "code",
   "execution_count": 5,
   "id": "1220d1d4",
   "metadata": {},
   "outputs": [
    {
     "data": {
      "text/plain": [
       "[<matplotlib.lines.Line2D at 0x1ecbafd26c8>]"
      ]
     },
     "execution_count": 5,
     "metadata": {},
     "output_type": "execute_result"
    },
    {
     "data": {
      "image/png": "[encoded data removed]",
      "text/plain": [
       "<Figure size 432x288 with 1 Axes>"
      ]
     },
     "metadata": {
      "needs_background": "light"
     },
     "output_type": "display_data"
    }
   ],
   "source": [
    "x = np.linspace(150, 3250 , 3101)\n",
    "\n",
    "variance = 50\n",
    "pick_1 = 500\n",
    "pick_2 = 1000\n",
    "pick_3 = 1500\n",
    "pick_4 = 2000\n",
    "pick_5 = 2500\n",
    "data1 = generate_data(x)\n",
    "plt.plot(x,data1)"
   ]
  },
  {
   "cell_type": "code",
   "execution_count": 6,
   "id": "43ee7289",
   "metadata": {},
   "outputs": [],
   "source": [
    "x2, x3 = CCD_position(x)"
   ]
  },
  {
   "cell_type": "code",
   "execution_count": 7,
   "id": "52fd1025",
   "metadata": {},
   "outputs": [
    {
     "data": {
      "text/plain": [
       "[<matplotlib.lines.Line2D at 0x1ecbb7465c8>]"
      ]
     },
     "execution_count": 7,
     "metadata": {},
     "output_type": "execute_result"
    },
    {
     "data": {
      "image/png": "[encoded data removed]",
      "text/plain": [
       "<Figure size 432x288 with 1 Axes>"
      ]
     },
     "metadata": {
      "needs_background": "light"
     },
     "output_type": "display_data"
    }
   ],
   "source": [
    "plt.plot(x2,data1)\n",
    "plt.plot(x3,data1)"
   ]
  },
  {
   "cell_type": "markdown",
   "id": "7abf3358",
   "metadata": {},
   "source": [
    "## Lock in Amp"
   ]
  },
  {
   "cell_type": "code",
   "execution_count": 9,
   "id": "44fae0ae",
   "metadata": {},
   "outputs": [],
   "source": [
    "def wave(t, phi,T):    ### generating the wave\n",
    "    return np.sin(2*np.pi*np.array(list(range(t)))/T + phi)\n",
    "\n"
   ]
  },
  {
   "cell_type": "code",
   "execution_count": 10,
   "id": "c053f97e",
   "metadata": {},
   "outputs": [],
   "source": [
    "def discretize(x, n):    ### Discretize the wave for showing on 2m pixel of 512 pixels\n",
    "    m = np.round(x*n)    \n",
    "    return m"
   ]
  },
  {
   "cell_type": "code",
   "execution_count": 11,
   "id": "98c1a82d",
   "metadata": {},
   "outputs": [],
   "source": [
    "def normal(x, sigma, mean):\n",
    "    y = (1/(np.sqrt(2*np.pi*sigma**2)))*np.exp(-(x - mean)**2/(2*sigma**2))\n",
    "    return y"
   ]
  },
  {
   "cell_type": "code",
   "execution_count": 12,
   "id": "c8690bb0",
   "metadata": {},
   "outputs": [],
   "source": [
    "def lowpass(x, alpha=0.01):\n",
    "    data = [x[0]]\n",
    "    for a in x[1:]:\n",
    "        data.append(data[-1] + (alpha*(a-data[-1])))\n",
    "    return np.array(data)"
   ]
  },
  {
   "cell_type": "code",
   "execution_count": 13,
   "id": "5b6ae69a",
   "metadata": {},
   "outputs": [],
   "source": [
    "def pixel_to_wavelength(pixel):\n",
    "    \n",
    "    wave_length = 640 + 160/1023 * pixel\n",
    "    \n",
    "    return wave_length\n",
    "    \n",
    "    "
   ]
  },
  {
   "cell_type": "code",
   "execution_count": 14,
   "id": "09946b99",
   "metadata": {},
   "outputs": [],
   "source": [
    "def calc_position(pos1 , pos2):\n",
    "    \n",
    "    \n",
    "    # we assume that pos1 < pos2\n",
    "    \n",
    "#     new_pos1 = 10**7*(1/633 - 1/pos1)\n",
    "#     new_pos2 = 10**7*(1/634 - 1/pos2)\n",
    "    \n",
    "    new_pos1 = 10**7/(10**7/633 - pos1)\n",
    "    \n",
    "    # if we have coorect pos1 and pos2, we should have new_pos1 = new_pos2\n",
    "    \n",
    "    return new_pos1\n",
    "    \n",
    "    \n",
    "    "
   ]
  },
  {
   "cell_type": "code",
   "execution_count": 15,
   "id": "79784626",
   "metadata": {},
   "outputs": [],
   "source": [
    "\n",
    "t = 4000\n",
    "dataframe = np.zeros([512, 1024, t])\n",
    "\n",
    "\n",
    "dataframe[256:,:,:] = 1\n",
    "\n",
    "phi1 = 0\n",
    "phi2 = np.pi/2\n",
    "\n",
    "\n",
    "pivot = 256\n",
    "\n",
    "amp = 100\n",
    "\n",
    "\n",
    "ref1 = wave(t, phi1, 100)\n",
    "ref2 = wave(t, phi2, 100)\n",
    "\n",
    "\n",
    "\n",
    "data = {'X' : [], 'Y' : [], 'position' : [], 'intensity' : []}\n",
    "\n",
    "\n",
    "frq = 100\n",
    "\n",
    "for j in range(150, 3250):\n",
    "    \n",
    "    freq = 100\n",
    "    \n",
    "#     if j == 256:\n",
    "#         freq = 100\n",
    "        \n",
    "#     else: \n",
    "#         freq = 1000 + np.random.randn(1)[0]*50    \n",
    "\n",
    "    \n",
    "#     ref1 = wave(t, phi1, freq)\n",
    "#     ref2 = wave(t, phi2, freq)\n",
    "    \n",
    "#     wave1 = amplitudes[j]*wave(t, phi1 , freq) + np.random.rand(1000) * 0.001\n",
    "#     loc_wave1 = discretize(wave1, 100) + 256\n",
    "#     loc_wave1 = loc_wave1.astype(int)\n",
    "\n",
    "    DC = 0\n",
    "\n",
    "    wave1 = data1[j - 150]*wave(t, phi1 , freq) \n",
    "\n",
    "    wave2 = data1[j - 150]*wave(t, phi2, freq) \n",
    "    \n",
    "#     wave_length = pixel_to_wavelength(j)\n",
    "    \n",
    "#     wave_length_next_channel = pixel_to_wavelength(j+10)\n",
    "    \n",
    "#     final_position = calc_position(j, wave_length_next_channel)\n",
    "\n",
    "    final_position = j\n",
    "    \n",
    "    \n",
    "#     wave2 = amplitudes[j+10]*wave(t, phi2, freq) + np.random.rand(1000) * 0.001\n",
    "#     loc_wave2 = discretize(wave2, 100) + 256\n",
    "#     loc_wave2 = loc_wave2.astype(int)\n",
    "\n",
    "    # We assume that DC value is equal to 0 \n",
    "\n",
    "    wave1 = wave1 * (wave1 >= DC).astype(int)\n",
    "    wave2 = wave2 * (wave2 >= DC).astype(int)\n",
    "    \n",
    "    In_phase = ref1 * wave1\n",
    "    In_phase_after_filter = lowpass(In_phase)\n",
    "    quad = wave2 * ref2\n",
    "    quad_after_filter = lowpass(quad)\n",
    "\n",
    "    #magnitude = np.sqrt(In_phase_after_filter + quad_after_filter)**2\n",
    "    #phase = np.arctan2(np.sqrt(quad_after_filter), np.sqrt(In_phase_after_filter))\n",
    "    \n",
    "    decoder = wave(t, phi1, 2*100)\n",
    "    x = In_phase_after_filter*decoder\n",
    "    y = quad_after_filter*decoder\n",
    "\n",
    "    data['X'].append(x)\n",
    "    data['Y'].append(y)\n",
    "    data['position'].append(final_position)\n",
    "    data['intensity'].append(np.mean((np.array(data['X'][j - 150]) + np.array(data['Y'][j - 150]))*decoder))\n",
    "\n",
    "# fig, axes = plt.subplots(nrows=1, ncols=2)\n",
    "# fig.set_size_inches(12,4)\n",
    "# axes[0].plot(x)\n",
    "# axes[1].plot(y)\n",
    "\n",
    "# axes[0].set_title('Magnitude')\n",
    "# axes[1].set_title('Phase (Radian)')\n"
   ]
  },
  {
   "cell_type": "code",
   "execution_count": 23,
   "id": "c6538724",
   "metadata": {},
   "outputs": [
    {
     "data": {
      "text/plain": [
       "1.4607104805253447e-193"
      ]
     },
     "execution_count": 23,
     "metadata": {},
     "output_type": "execute_result"
    }
   ],
   "source": [
    "data1[499]"
   ]
  },
  {
   "cell_type": "code",
   "execution_count": 16,
   "id": "87c7e1ba",
   "metadata": {},
   "outputs": [
    {
     "data": {
      "text/plain": [
       "[<matplotlib.lines.Line2D at 0x1ecc66a5c08>]"
      ]
     },
     "execution_count": 16,
     "metadata": {},
     "output_type": "execute_result"
    },
    {
     "data": {
      "image/png": "[encoded data removed]",
      "text/plain": [
       "<Figure size 432x288 with 1 Axes>"
      ]
     },
     "metadata": {
      "needs_background": "light"
     },
     "output_type": "display_data"
    }
   ],
   "source": [
    "plt.plot(data['position'], data['intensity'])\n"
   ]
  },
  {
   "cell_type": "code",
   "execution_count": 21,
   "id": "d2f255b1",
   "metadata": {},
   "outputs": [],
   "source": [
    "\n",
    "t = 4000\n",
    "dataframe = np.zeros([512, 1024, t])\n",
    "\n",
    "\n",
    "\n",
    "first_channel = 256\n",
    "second_channel = 263\n",
    "\n",
    "\n",
    "dataframe[256:,:,:] = 1\n",
    "\n",
    "phi1 = 0\n",
    "phi2 = np.pi/2\n",
    "\n",
    "\n",
    "pivot = 256\n",
    "\n",
    "amp = 100\n",
    "\n",
    "\n",
    "ref1 = wave(t, phi1, 100)\n",
    "ref2 = wave(t, phi2, 100)\n",
    "\n",
    "\n",
    "\n",
    "data = {'X' : [], 'Y' : [], 'position' : [], 'intensity' : []}\n",
    "\n",
    "\n",
    "frq = 100\n",
    "\n",
    "for j in range(150, 3250):\n",
    "    \n",
    "    freq = 100\n",
    "    \n",
    "#     if j == 256:\n",
    "#         freq = 100\n",
    "        \n",
    "#     else: \n",
    "#         freq = 1000 + np.random.randn(1)[0]*50    \n",
    "\n",
    "    \n",
    "#     ref1 = wave(t, phi1, freq)\n",
    "#     ref2 = wave(t, phi2, freq)\n",
    "    \n",
    "#     wave1 = amplitudes[j]*wave(t, phi1 , freq) + np.random.rand(1000) * 0.001\n",
    "#     loc_wave1 = discretize(wave1, 100) + 256\n",
    "#     loc_wave1 = loc_wave1.astype(int)\n",
    "\n",
    "    DC = 0.8\n",
    "\n",
    "    wave1 = data1[j - 150]*wave(t, phi1 , freq) \n",
    "\n",
    "    wave2 = data1[j - 150]*wave(t, phi2, freq) \n",
    "    \n",
    "#     wave_length = pixel_to_wavelength(j)\n",
    "    \n",
    "#     wave_length_next_channel = pixel_to_wavelength(j+10)\n",
    "    \n",
    "#     final_position = calc_position(j, wave_length_next_channel)\n",
    "\n",
    "    final_position = j\n",
    "    \n",
    "    \n",
    "    \n",
    "    \n",
    "#     wave2 = amplitudes[j+10]*wave(t, phi2, freq) + np.random.rand(1000) * 0.001\n",
    "#     loc_wave2 = discretize(wave2, 100) + 256\n",
    "#     loc_wave2 = loc_wave2.astype(int)\n",
    "\n",
    "    # We assume that DC value is equal to 0 \n",
    "\n",
    "    wave1 = wave1 * (wave1 >= DC).astype(int)\n",
    "    wave2 = wave2 * (wave2 >= DC).astype(int)\n",
    "    \n",
    "    In_phase = ref1 * wave1\n",
    "    In_phase_after_filter = lowpass(In_phase)\n",
    "    quad = wave2 * ref2\n",
    "    quad_after_filter = lowpass(quad)\n",
    "\n",
    "    #magnitude = np.sqrt(In_phase_after_filter + quad_after_filter)**2\n",
    "    #phase = np.arctan2(np.sqrt(quad_after_filter), np.sqrt(In_phase_after_filter))\n",
    "    \n",
    "    decoder = wave(t, phi1, 2*100)\n",
    "    x = In_phase_after_filter*decoder\n",
    "    y = quad_after_filter*decoder\n",
    "\n",
    "    data['X'].append(x)\n",
    "    data['Y'].append(y)\n",
    "    data['position'].append(final_position)\n",
    "    data['intensity'].append(np.mean((np.array(data['X'][j - 150]) + np.array(data['Y'][j - 150]))*decoder))\n",
    "\n",
    "# fig, axes = plt.subplots(nrows=1, ncols=2)\n",
    "# fig.set_size_inches(12,4)\n",
    "# axes[0].plot(x)\n",
    "# axes[1].plot(y)\n",
    "\n",
    "# axes[0].set_title('Magnitude')\n",
    "# axes[1].set_title('Phase (Radian)')\n"
   ]
  },
  {
   "cell_type": "code",
   "execution_count": 22,
   "id": "6c8e4c86",
   "metadata": {},
   "outputs": [
    {
     "data": {
      "text/plain": [
       "[<matplotlib.lines.Line2D at 0x1ecc2724b48>]"
      ]
     },
     "execution_count": 22,
     "metadata": {},
     "output_type": "execute_result"
    },
    {
     "data": {
      "image/png": "[encoded data removed]",
      "text/plain": [
       "<Figure size 432x288 with 1 Axes>"
      ]
     },
     "metadata": {
      "needs_background": "light"
     },
     "output_type": "display_data"
    }
   ],
   "source": [
    "plt.plot(data['position'], data['intensity'])"
   ]
  },
  {
   "cell_type": "markdown",
   "id": "2ec9aec8",
   "metadata": {},
   "source": [
    "# Overlapping"
   ]
  },
  {
   "cell_type": "code",
   "execution_count": 19,
   "id": "11a2a8fa",
   "metadata": {},
   "outputs": [
    {
     "data": {
      "text/plain": [
       "[<matplotlib.lines.Line2D at 0x1d898ba8288>]"
      ]
     },
     "execution_count": 19,
     "metadata": {},
     "output_type": "execute_result"
    },
    {
     "data": {
      "image/png": "[encoded data removed]",
      "text/plain": [
       "<Figure size 432x288 with 1 Axes>"
      ]
     },
     "metadata": {
      "needs_background": "light"
     },
     "output_type": "display_data"
    }
   ],
   "source": [
    "x = np.linspace(150, 3250 , 3101)\n",
    "\n",
    "variance = 50\n",
    "pick_1 = 1000\n",
    "pick_2 = 1025\n",
    "pick_3 = 1500\n",
    "pick_4 = 2000\n",
    "pick_5 = 2500\n",
    "data1 = generate_data(x)\n",
    "plt.plot(x,data1)"
   ]
  },
  {
   "cell_type": "code",
   "execution_count": 20,
   "id": "a688cf9b",
   "metadata": {},
   "outputs": [
    {
     "data": {
      "text/plain": [
       "[<matplotlib.lines.Line2D at 0x1d898aec248>]"
      ]
     },
     "execution_count": 20,
     "metadata": {},
     "output_type": "execute_result"
    },
    {
     "data": {
      "image/png": "[encoded data removed]",
      "text/plain": [
       "<Figure size 432x288 with 1 Axes>"
      ]
     },
     "metadata": {
      "needs_background": "light"
     },
     "output_type": "display_data"
    }
   ],
   "source": [
    "plt.plot(x2,data1)\n",
    "plt.plot(x3,data1)"
   ]
  },
  {
   "cell_type": "code",
   "execution_count": 21,
   "id": "499ebca1",
   "metadata": {},
   "outputs": [
    {
     "data": {
      "text/plain": [
       "[<matplotlib.lines.Line2D at 0x1d899c42dc8>]"
      ]
     },
     "execution_count": 21,
     "metadata": {},
     "output_type": "execute_result"
    },
    {
     "data": {
      "image/png": "[encoded data removed]",
      "text/plain": [
       "<Figure size 432x288 with 1 Axes>"
      ]
     },
     "metadata": {
      "needs_background": "light"
     },
     "output_type": "display_data"
    }
   ],
   "source": [
    "plt.plot(x2[800:1000],data1[800:1000])\n",
    "plt.plot(x3[800:1000],data1[800:1000])"
   ]
  },
  {
   "cell_type": "code",
   "execution_count": 22,
   "id": "9758f714",
   "metadata": {},
   "outputs": [],
   "source": [
    "\n",
    "t = 4000\n",
    "dataframe = np.zeros([512, 1024, t])\n",
    "\n",
    "\n",
    "\n",
    "first_channel = 256\n",
    "second_channel = 263\n",
    "\n",
    "\n",
    "dataframe[256:,:,:] = 1\n",
    "\n",
    "phi1 = 0\n",
    "phi2 = np.pi/2\n",
    "\n",
    "\n",
    "pivot = 256\n",
    "\n",
    "amp = 100\n",
    "\n",
    "\n",
    "ref1 = wave(t, phi1, 100)\n",
    "ref2 = wave(t, phi2, 100)\n",
    "\n",
    "\n",
    "\n",
    "data = {'X' : [], 'Y' : [], 'position' : [], 'intensity' : []}\n",
    "\n",
    "\n",
    "frq = 100\n",
    "\n",
    "for j in range(150, 3250):\n",
    "    \n",
    "    freq = 100\n",
    "    \n",
    "#     if j == 256:\n",
    "#         freq = 100\n",
    "        \n",
    "#     else: \n",
    "#         freq = 1000 + np.random.randn(1)[0]*50    \n",
    "\n",
    "    \n",
    "#     ref1 = wave(t, phi1, freq)\n",
    "#     ref2 = wave(t, phi2, freq)\n",
    "    \n",
    "#     wave1 = amplitudes[j]*wave(t, phi1 , freq) + np.random.rand(1000) * 0.001\n",
    "#     loc_wave1 = discretize(wave1, 100) + 256\n",
    "#     loc_wave1 = loc_wave1.astype(int)\n",
    "\n",
    "    DC = 0\n",
    "\n",
    "    wave1 = data1[j - 150]*wave(t, phi1 , freq) \n",
    "\n",
    "    wave2 = data1[j - 150]*wave(t, phi2, freq) \n",
    "    \n",
    "    wave_length = pixel_to_wavelength(j)\n",
    "    \n",
    "    wave_length_next_channel = pixel_to_wavelength(j+10)\n",
    "    \n",
    "    final_position = calc_position(j, wave_length_next_channel)\n",
    "    \n",
    "    \n",
    "    \n",
    "    \n",
    "#     wave2 = amplitudes[j+10]*wave(t, phi2, freq) + np.random.rand(1000) * 0.001\n",
    "#     loc_wave2 = discretize(wave2, 100) + 256\n",
    "#     loc_wave2 = loc_wave2.astype(int)\n",
    "\n",
    "    # We assume that DC value is equal to 0 \n",
    "\n",
    "    wave1 = wave1 * (wave1 >= DC).astype(int)\n",
    "    wave2 = wave2 * (wave2 >= DC).astype(int)\n",
    "    \n",
    "    In_phase = ref1 * wave1\n",
    "    In_phase_after_filter = lowpass(In_phase)\n",
    "    quad = wave2 * ref2\n",
    "    quad_after_filter = lowpass(quad)\n",
    "\n",
    "    #magnitude = np.sqrt(In_phase_after_filter + quad_after_filter)**2\n",
    "    #phase = np.arctan2(np.sqrt(quad_after_filter), np.sqrt(In_phase_after_filter))\n",
    "    \n",
    "    decoder = wave(t, phi1, 2*100)\n",
    "    x = In_phase_after_filter*decoder\n",
    "    y = quad_after_filter*decoder\n",
    "\n",
    "    data['X'].append(x)\n",
    "    data['Y'].append(y)\n",
    "    data['position'].append(final_position)\n",
    "    data['intensity'].append(np.mean((np.array(data['X'][j - 150]) + np.array(data['Y'][j - 150]))*decoder))\n",
    "\n",
    "# fig, axes = plt.subplots(nrows=1, ncols=2)\n",
    "# fig.set_size_inches(12,4)\n",
    "# axes[0].plot(x)\n",
    "# axes[1].plot(y)\n",
    "\n",
    "# axes[0].set_title('Magnitude')\n",
    "# axes[1].set_title('Phase (Radian)')\n"
   ]
  },
  {
   "cell_type": "code",
   "execution_count": 23,
   "id": "4cbe27a7",
   "metadata": {},
   "outputs": [
    {
     "data": {
      "text/plain": [
       "[<matplotlib.lines.Line2D at 0x1d898bf0dc8>]"
      ]
     },
     "execution_count": 23,
     "metadata": {},
     "output_type": "execute_result"
    },
    {
     "data": {
      "image/png": "[encoded data removed]",
      "text/plain": [
       "<Figure size 432x288 with 1 Axes>"
      ]
     },
     "metadata": {
      "needs_background": "light"
     },
     "output_type": "display_data"
    }
   ],
   "source": [
    "plt.plot(data['position'], data['intensity'])"
   ]
  },
  {
   "cell_type": "code",
   "execution_count": null,
   "id": "c950583a",
   "metadata": {},
   "outputs": [],
   "source": []
  }
 ],
 "metadata": {
  "kernelspec": {
   "display_name": "Python 3 (ipykernel)",
   "language": "python",
   "name": "python3"
  },
  "language_info": {
   "codemirror_mode": {
    "name": "ipython",
    "version": 3
   },
   "file_extension": ".py",
   "mimetype": "text/x-python",
   "name": "python",
   "nbconvert_exporter": "python",
   "pygments_lexer": "ipython3",
   "version": "3.7.11"
  }
 },
 "nbformat": 4,
 "nbformat_minor": 5
}
