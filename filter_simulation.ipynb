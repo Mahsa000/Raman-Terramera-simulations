{
 "cells": [
  {
   "cell_type": "code",
   "execution_count": 1,
   "metadata": {},
   "outputs": [],
   "source": [
    "import numpy as np\n",
    "import math\n",
    "import matplotlib.pyplot as plt\n",
    "from matplotlib.animation import FFMpegWriter\n",
    "from matplotlib.lines import Line2D     \n",
    "import pandas as pd"
   ]
  },
  {
   "cell_type": "code",
   "execution_count": 2,
   "metadata": {},
   "outputs": [],
   "source": [
    "def wave(t, phi,T):    ### generating the wave\n",
    "    return np.sin(2*math.pi*np.array(list(range(t)))/T + phi)\n",
    "\n"
   ]
  },
  {
   "cell_type": "code",
   "execution_count": 3,
   "metadata": {},
   "outputs": [],
   "source": [
    "def discretize(x, n):    ### Discretize the wave for showing on 2m pixel of 512 pixels\n",
    "    m = np.round(x*n)    \n",
    "    return m"
   ]
  },
  {
   "cell_type": "code",
   "execution_count": 4,
   "metadata": {},
   "outputs": [],
   "source": [
    "def normal(x, sigma, mean):\n",
    "    y = (1/(np.sqrt(2*np.pi*sigma**2)))*np.exp(-(x - mean)**2/(2*sigma**2))\n",
    "    return y"
   ]
  },
  {
   "cell_type": "code",
   "execution_count": 5,
   "metadata": {},
   "outputs": [],
   "source": [
    "def calc_position(pos1 , pos2):\n",
    "    \n",
    "    \n",
    "    # we assume that pos1 < pos2\n",
    "    \n",
    "    new_pos1 = 10**7*(1/633 - 1/pos1)\n",
    "    new_pos2 = 10**7*(1/634 - 1/pos2)\n",
    "    \n",
    "    # if we have correct pos1 and pos2, we should have new_pos1 = new_pos2\n",
    "    \n",
    "    return new_pos1\n",
    "    \n",
    "    \n",
    "    "
   ]
  },
  {
   "cell_type": "code",
   "execution_count": 6,
   "metadata": {},
   "outputs": [],
   "source": [
    "def pixel_to_wavelength(pixel):\n",
    "    \n",
    "    wave_length = 640 + 160/1023 * pixel\n",
    "    \n",
    "    return wave_length\n",
    "    \n",
    "    "
   ]
  },
  {
   "cell_type": "code",
   "execution_count": 7,
   "metadata": {},
   "outputs": [],
   "source": [
    "def lowpass(x, alpha=0.01):\n",
    "    data = [x[0]]\n",
    "    for a in x[1:]:\n",
    "        data.append(data[-1] + (alpha*(a-data[-1])))\n",
    "    return np.array(data)"
   ]
  },
  {
   "cell_type": "code",
   "execution_count": 8,
   "metadata": {},
   "outputs": [
    {
     "data": {
      "text/plain": [
       "array([1, 2, 3, 0])"
      ]
     },
     "execution_count": 8,
     "metadata": {},
     "output_type": "execute_result"
    }
   ],
   "source": [
    "a = np.array([1,2,3,-4])\n",
    "(a >= 0).astype(int)*a"
   ]
  },
  {
   "cell_type": "code",
   "execution_count": 9,
   "metadata": {},
   "outputs": [],
   "source": [
    "\n",
    "t = 1000\n",
    "dataframe = np.zeros([512, 1024, t])\n",
    "\n",
    "\n",
    "\n",
    "first_channel = 256 #difference 7 pixels\n",
    "second_channel = 263\n",
    "\n",
    "\n",
    "dataframe[256:,:,:] = 1\n",
    "\n",
    "phi1 = 0\n",
    "phi2 = math.pi/2 #rule 1\n",
    "\n",
    "\n",
    "pivot = 256\n",
    "\n",
    "amp = 100\n",
    "\n",
    "\n",
    "ref1 = wave(t, phi1, 100)\n",
    "ref2 = wave(t, phi2, 100)\n",
    "\n",
    "\n",
    "\n",
    "first_channel_lambda = 680  #rule 2\n",
    "second_channel_lambda = 681.16\n",
    "\n",
    "data = {'X' : [], 'Y' : [], 'position' : [], 'intensity' : []}\n",
    "\n",
    "\n",
    "frq = 100\n",
    "\n",
    "for j in range(1014):\n",
    "    \n",
    "    if j == 256:\n",
    "        freq = 100\n",
    "        \n",
    "    else: \n",
    "        freq = 1000 + np.random.randn(1)[0]*50 #?   \n",
    "\n",
    "    \n",
    "#     ref1 = wave(t, phi1, freq)\n",
    "#     ref2 = wave(t, phi2, freq)\n",
    "    \n",
    "#     wave1 = amplitudes[j]*wave(t, phi1 , freq) + np.random.rand(1000) * 0.001\n",
    "#     loc_wave1 = discretize(wave1, 100) + 256\n",
    "#     loc_wave1 = loc_wave1.astype(int)\n",
    "\n",
    "    wave1 = wave(t, phi1 , freq) \n",
    "\n",
    "    wave2 = wave(t, phi2, freq)\n",
    "    \n",
    "    wave_length = pixel_to_wavelength(j)\n",
    "    \n",
    "    wave_length_next_channel = pixel_to_wavelength(j+10)\n",
    "    \n",
    "    final_position = calc_position(wave_length, wave_length_next_channel)\n",
    "    \n",
    "    \n",
    "    \n",
    "    \n",
    "#     wave2 = amplitudes[j+10]*wave(t, phi2, freq) + np.random.rand(1000) * 0.001\n",
    "#     loc_wave2 = discretize(wave2, 100) + 256\n",
    "#     loc_wave2 = loc_wave2.astype(int)\n",
    "\n",
    "    # We assume that DC value is equal to 0 \n",
    "\n",
    "    wave1 = wave1 * (wave1 >= 0).astype(int)\n",
    "    wave2 = wave2 * (wave2 >= 0).astype(int)\n",
    "    \n",
    "    In_phase = ref1 * wave1\n",
    "    In_phase_after_filter = lowpass(In_phase)\n",
    "    quad = wave2 * ref2\n",
    "    quad_after_filter = lowpass(quad)\n",
    "\n",
    "    #magnitude = np.sqrt(In_phase_after_filter + quad_after_filter)**2\n",
    "    #phase = np.arctan2(np.sqrt(quad_after_filter), np.sqrt(In_phase_after_filter))\n",
    "    \n",
    "    decoder = wave(t, phi1, 2*100)\n",
    "    x = In_phase_after_filter*decoder\n",
    "    y = quad_after_filter*decoder\n",
    "\n",
    "    data['X'].append(x)\n",
    "    data['Y'].append(y)\n",
    "    data['position'].append(final_position)\n",
    "    data['intensity'].append(np.mean((np.array(data['X'][j]) + np.array(data['Y'][j]))*decoder))\n",
    "\n",
    "# fig, axes = plt.subplots(nrows=1, ncols=2)\n",
    "# fig.set_size_inches(12,4)\n",
    "# axes[0].plot(x)\n",
    "# axes[1].plot(y)\n",
    "\n",
    "# axes[0].set_title('Magnitude')\n",
    "# axes[1].set_title('Phase (Radian)')\n"
   ]
  },
  {
   "cell_type": "code",
   "execution_count": 10,
   "metadata": {},
   "outputs": [
    {
     "data": {
      "text/plain": [
       "Text(0.5, 1.0, 'Wavenumber Space')"
      ]
     },
     "execution_count": 10,
     "metadata": {},
     "output_type": "execute_result"
    },
    {
     "data": {
      "image/png": "[encoded data removed]",
      "text/plain": [
       "<Figure size 432x288 with 1 Axes>"
      ]
     },
     "metadata": {
      "needs_background": "light"
     },
     "output_type": "display_data"
    }
   ],
   "source": [
    "plt.plot(data['position'], data['intensity'])\n",
    "plt.xlabel(\"$cm^{-1}$\")\n",
    "plt.ylabel(\"Intensity\")\n",
    "plt.title('Wavenumber Space')"
   ]
  },
  {
   "cell_type": "code",
   "execution_count": 1,
   "metadata": {},
   "outputs": [],
   "source": [
    "# plt.plot(data['X'][256])\n",
    "# plt.plot(data['Y'][256])"
   ]
  },
  {
   "cell_type": "code",
   "execution_count": 2,
   "metadata": {},
   "outputs": [],
   "source": [
    "# plt.plot(data['X'][256] + data['Y'][256])"
   ]
  },
  {
   "cell_type": "code",
   "execution_count": 13,
   "metadata": {},
   "outputs": [],
   "source": [
    "\n",
    "t = 1000\n",
    "dataframe = np.zeros([512, 1024, t])\n",
    "\n",
    "\n",
    "\n",
    "first_channel = 256\n",
    "second_channel = 263\n",
    "\n",
    "\n",
    "dataframe[256:,:,:] = 1\n",
    "\n",
    "phi1 = 0\n",
    "phi2 = math.pi/2\n",
    "\n",
    "\n",
    "pivot = 256\n",
    "\n",
    "amp = 100\n",
    "\n",
    "\n",
    "\n",
    "amp1 = 2000\n",
    "\n",
    "amp2 = 1000\n",
    "\n",
    "ref1 = amp1 * wave(t, phi1, 100)\n",
    "ref2 = amp2 * wave(t, phi2, 100)\n",
    "\n",
    "\n",
    "\n",
    "\n",
    "first_channel_lambda = 680\n",
    "second_channel_lambda = 681.16\n",
    "\n",
    "data = {'X' : [], 'Y' : [], 'position' : [], 'intensity' : []}\n",
    "\n",
    "\n",
    "\n",
    "\n",
    "\n",
    "frq = 100\n",
    "\n",
    "for j in range(1014):\n",
    "    \n",
    "    if j == 256:\n",
    "        freq = 100\n",
    "        \n",
    "    else: \n",
    "        freq = 1000 + np.random.randn(1)[0]*50    \n",
    "\n",
    "    \n",
    "#     ref1 = wave(t, phi1, freq)\n",
    "#     ref2 = wave(t, phi2, freq)\n",
    "    \n",
    "#     wave1 = amplitudes[j]*wave(t, phi1 , freq) + np.random.rand(1000) * 0.001\n",
    "#     loc_wave1 = discretize(wave1, 100) + 256\n",
    "#     loc_wave1 = loc_wave1.astype(int)\n",
    "\n",
    "    DC = ref1**2 + ref2**2\n",
    "\n",
    "    wave1 = wave(t, phi1, freq) + DC\n",
    "\n",
    "    wave2 = wave(t, phi2, freq) + DC\n",
    "    \n",
    "    wave_length = pixel_to_wavelength(j)\n",
    "    \n",
    "    wave_length_next_channel = pixel_to_wavelength(j+10)\n",
    "    \n",
    "    final_position = calc_position(wave_length, wave_length_next_channel) #!!!!! two sticks\n",
    "    \n",
    "    \n",
    "    \n",
    "    \n",
    "#     wave2 = amplitudes[j+10]*wave(t, phi2, freq) + np.random.rand(1000) * 0.001\n",
    "#     loc_wave2 = discretize(wave2, 100) + 256\n",
    "#     loc_wave2 = loc_wave2.astype(int)\n",
    "\n",
    "    # We assume that DC value is equal to 0 \n",
    "\n",
    "    wave1 = wave1 * (wave1 >= DC).astype(int) #wave1 residual \n",
    "    wave2 = wave2 * (wave2 >= DC).astype(int)\n",
    "    \n",
    "    In_phase = ref1 * wave1\n",
    "    In_phase_after_filter = lowpass(In_phase)\n",
    "    quad = wave2 * ref2\n",
    "    quad_after_filter = lowpass(quad)\n",
    "\n",
    "    #magnitude = np.sqrt(In_phase_after_filter + quad_after_filter)**2\n",
    "    #phase = np.arctan2(np.sqrt(quad_after_filter), np.sqrt(In_phase_after_filter))\n",
    "    \n",
    "    decoder = wave(t, phi1, 2*100)\n",
    "    x = In_phase_after_filter*decoder\n",
    "    y = quad_after_filter*decoder\n",
    "\n",
    "    data['X'].append(x)\n",
    "    data['Y'].append(y)\n",
    "    data['position'].append(final_position)\n",
    "    data['intensity'].append(np.mean((np.array(data['X'][j]) + np.array(data['Y'][j]))*decoder))\n",
    "\n",
    "# fig, axes = plt.subplots(nrows=1, ncols=2)\n",
    "# fig.set_size_inches(12,4)\n",
    "# axes[0].plot(x)\n",
    "# axes[1].plot(y)\n",
    "\n",
    "# axes[0].set_title('Magnitude')\n",
    "# axes[1].set_title('Phase (Radian)')\n"
   ]
  },
  {
   "cell_type": "code",
   "execution_count": 14,
   "metadata": {},
   "outputs": [
    {
     "data": {
      "text/plain": [
       "Text(0.5, 1.0, 'Wavenumber Space')"
      ]
     },
     "execution_count": 14,
     "metadata": {},
     "output_type": "execute_result"
    },
    {
     "data": {
      "image/png": "[encoded data removed]",
      "text/plain": [
       "<Figure size 432x288 with 1 Axes>"
      ]
     },
     "metadata": {
      "needs_background": "light"
     },
     "output_type": "display_data"
    }
   ],
   "source": [
    "plt.plot(data['position'], data['intensity'])\n",
    "plt.xlabel(\"$cm^{-1}$\")\n",
    "plt.ylabel(\"Intensity\")\n",
    "plt.title('Wavenumber Space')"
   ]
  },
  {
   "cell_type": "code",
   "execution_count": 7,
   "metadata": {},
   "outputs": [],
   "source": [
    "# plt.plot(data['X'][256])\n",
    "# plt.plot(data['Y'][256])"
   ]
  },
  {
   "cell_type": "code",
   "execution_count": 6,
   "metadata": {},
   "outputs": [],
   "source": [
    "# plt.plot(data['X'][444] + data['Y'][444])"
   ]
  },
  {
   "cell_type": "markdown",
   "metadata": {},
   "source": [
    "## Noise added to the input signals"
   ]
  },
  {
   "cell_type": "code",
   "execution_count": 17,
   "metadata": {},
   "outputs": [],
   "source": [
    "\n",
    "t = 1000\n",
    "dataframe = np.zeros([512, 1024, t])\n",
    "\n",
    "\n",
    "\n",
    "first_channel = 256\n",
    "second_channel = 263\n",
    "\n",
    "\n",
    "#dataframe[256:,:,:] = 1\n",
    "\n",
    "phi1 = 0\n",
    "phi2 = math.pi/2\n",
    "\n",
    "\n",
    "pivot = 256\n",
    "\n",
    "amp = 100\n",
    "\n",
    "\n",
    "\n",
    "amp1 = 1\n",
    "\n",
    "amp2 = 1\n",
    "\n",
    "ref1 = amp1 * wave(t, phi1, 100)\n",
    "ref2 = amp2 * wave(t, phi2, 100)\n",
    "\n",
    "\n",
    "\n",
    "\n",
    "first_channel_lambda = 680\n",
    "second_channel_lambda = 681.16\n",
    "\n",
    "data = {'X' : [], 'Y' : [], 'position' : [], 'intensity' : []}\n",
    "\n",
    "\n",
    "\n",
    "\n",
    "\n",
    "frq = 100\n",
    "\n",
    "for j in range(1014):\n",
    "    \n",
    "    if j == 256:\n",
    "        freq = 100\n",
    "        \n",
    "    else: \n",
    "        freq = 1000 + np.random.randn(1)[0]*50    \n",
    "\n",
    "    \n",
    "#     ref1 = wave(t, phi1, freq)\n",
    "#     ref2 = wave(t, phi2, freq)\n",
    "    \n",
    "#     wave1 = amplitudes[j]*wave(t, phi1 , freq) + np.random.rand(1000) * 0.001\n",
    "#     loc_wave1 = discretize(wave1, 100) + 256\n",
    "#     loc_wave1 = loc_wave1.astype(int)\n",
    "\n",
    "    DC = ref1**2 + ref2**2\n",
    "\n",
    "    wave1 = wave(t, phi1, freq) + DC + np.random.rand(1000) * 0.001\n",
    "\n",
    "    wave2 = wave(t, phi2, freq) + DC + np.random.rand(1000) * 0.001\n",
    "    \n",
    "    wave_length = pixel_to_wavelength(j)\n",
    "    \n",
    "    wave_length_next_channel = pixel_to_wavelength(j+10)\n",
    "    \n",
    "    final_position = calc_position(wave_length, wave_length_next_channel)\n",
    "    \n",
    "    \n",
    "    \n",
    "    \n",
    "#     wave2 = amplitudes[j+10]*wave(t, phi2, freq) + np.random.rand(1000) * 0.001\n",
    "#     loc_wave2 = discretize(wave2, 100) + 256\n",
    "#     loc_wave2 = loc_wave2.astype(int)\n",
    "\n",
    "    # We assume that DC value is equal to 0 \n",
    "\n",
    "    wave1 = wave1 * (wave1 >= DC).astype(int)\n",
    "    wave2 = wave2 * (wave2 >= DC).astype(int)\n",
    "    \n",
    "    In_phase = ref1 * wave1\n",
    "    In_phase_after_filter = lowpass(In_phase)\n",
    "    quad = wave2 * ref2\n",
    "    quad_after_filter = lowpass(quad)\n",
    "\n",
    "    #magnitude = np.sqrt(In_phase_after_filter + quad_after_filter)**2\n",
    "    #phase = np.arctan2(np.sqrt(quad_after_filter), np.sqrt(In_phase_after_filter))\n",
    "    \n",
    "    decoder = wave(t, phi1, 2*100)\n",
    "    x = In_phase_after_filter*decoder\n",
    "    y = quad_after_filter*decoder\n",
    "\n",
    "    data['X'].append(x)\n",
    "    data['Y'].append(y)\n",
    "    data['position'].append(final_position)\n",
    "    data['intensity'].append(np.mean((np.array(data['X'][j]) + np.array(data['Y'][j]))*decoder))\n",
    "\n",
    "# fig, axes = plt.subplots(nrows=1, ncols=2)\n",
    "# fig.set_size_inches(12,4)\n",
    "# axes[0].plot(x)\n",
    "# axes[1].plot(y)\n",
    "\n",
    "# axes[0].set_title('Magnitude')\n",
    "# axes[1].set_title('Phase (Radian)')\n"
   ]
  },
  {
   "cell_type": "code",
   "execution_count": 18,
   "metadata": {},
   "outputs": [
    {
     "data": {
      "text/plain": [
       "[<matplotlib.lines.Line2D at 0x18c090bfd08>]"
      ]
     },
     "execution_count": 18,
     "metadata": {},
     "output_type": "execute_result"
    },
    {
     "data": {
      "image/png": "[encoded data removed]",
      "text/plain": [
       "<Figure size 432x288 with 1 Axes>"
      ]
     },
     "metadata": {
      "needs_background": "light"
     },
     "output_type": "display_data"
    }
   ],
   "source": [
    "plt.plot(data['position'], data['intensity'])"
   ]
  },
  {
   "cell_type": "code",
   "execution_count": 3,
   "metadata": {},
   "outputs": [],
   "source": [
    "# plt.plot((data['X'][256] + data['Y'][256])*decoder)\n",
    "# #plt.plot(data['Y'][256])"
   ]
  },
  {
   "cell_type": "code",
   "execution_count": 4,
   "metadata": {},
   "outputs": [],
   "source": [
    "# plt.plot((data['X'][246] + data['Y'][246])*decoder)"
   ]
  },
  {
   "cell_type": "code",
   "execution_count": 21,
   "metadata": {},
   "outputs": [],
   "source": [
    "#wave1 = amplitudes[first_channel]*wave(t, phi1, 100) + np.random.rand() * 0.1\n",
    "loc_wave1 = discretize(wave1 - np.mean(wave1), 100) + 256\n",
    "loc_wave1 = loc_wave1.astype(int)\n",
    "\n",
    "#wave2 = amplitudes[second_channel]*wave(t, phi1 + np.pi/2, 100) + np.random.rand() * 0.1\n",
    "loc_wave2 = discretize(wave2 - np.mean(wave2), 100) + 256\n",
    "loc_wave2 = loc_wave2.astype(int)\n",
    "\n",
    "dataframe1 = dataframe.copy()\n",
    "\n",
    "#dataframe1[256:,:,:] = 1\n",
    "\n",
    "for first_channel in range(0,1014):\n",
    "    second_channel = first_channel + 10\n",
    "\n",
    "    for i in range(t):\n",
    "\n",
    "        if loc_wave1[i] > 256: \n",
    "            dataframe1[256:loc_wave1[i], first_channel, i] = 1\n",
    "        else:\n",
    "            dataframe1[loc_wave1[i]:256, first_channel, i] = 1\n",
    "\n",
    "\n",
    "        if loc_wave2[i] > 256: \n",
    "            dataframe1[256:loc_wave2[i], second_channel, i] = 1\n",
    "        else:\n",
    "            dataframe1[loc_wave2[i]:256, second_channel, i] = 1\n",
    "\n"
   ]
  },
  {
   "cell_type": "code",
   "execution_count": 5,
   "metadata": {},
   "outputs": [],
   "source": [
    "# plt.imshow(1 - dataframe1[:,:,5], cmap = 'gray', extent = [0,1024, 0, 513])"
   ]
  },
  {
   "cell_type": "code",
   "execution_count": 23,
   "metadata": {},
   "outputs": [
    {
     "data": {
      "text/plain": [
       "1000"
      ]
     },
     "execution_count": 23,
     "metadata": {},
     "output_type": "execute_result"
    }
   ],
   "source": [
    "t"
   ]
  },
  {
   "cell_type": "code",
   "execution_count": null,
   "metadata": {},
   "outputs": [],
   "source": []
  }
 ],
 "metadata": {
  "kernelspec": {
   "display_name": "Python 3 (ipykernel)",
   "language": "python",
   "name": "python3"
  },
  "language_info": {
   "codemirror_mode": {
    "name": "ipython",
    "version": 3
   },
   "file_extension": ".py",
   "mimetype": "text/x-python",
   "name": "python",
   "nbconvert_exporter": "python",
   "pygments_lexer": "ipython3",
   "version": "3.7.11"
  }
 },
 "nbformat": 4,
 "nbformat_minor": 4
}
